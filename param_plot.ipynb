{
 "cells": [
  {
   "cell_type": "code",
   "execution_count": 156,
   "metadata": {},
   "outputs": [],
   "source": [
    "%matplotlib inline\n",
    "\n",
    "import os\n",
    "import pickle\n",
    "import matplotlib\n",
    "import numpy as np\n",
    "import matplotlib.cm as cm\n",
    "import matplotlib.pyplot as plt\n",
    "\n",
    "max_len = 50"
   ]
  },
  {
   "cell_type": "code",
   "execution_count": 186,
   "metadata": {},
   "outputs": [],
   "source": [
    "def load_data(path):\n",
    "    \n",
    "    gradient_buffer = [[], [], [], [], [], [], [], [], [], []]\n",
    "    \n",
    "    dir_length = len(path)\n",
    "    for path, subdirs, files in os.walk(path):\n",
    "        for f in files:\n",
    "            if 'param_value' not in f:\n",
    "                continue\n",
    "            else:\n",
    "                index = int(f[-3])\n",
    "                if len(gradient_buffer[index]) < max_len:\n",
    "                    params = pickle.load( open( path+f, \"rb\" ) )\n",
    "                    gradient_buffer[index].append(params)\n",
    "#     for index in range(10):\n",
    "#         print(index, len(gradient_buffer[index]))\n",
    "\n",
    "    return gradient_buffer"
   ]
  },
  {
   "cell_type": "code",
   "execution_count": 197,
   "metadata": {},
   "outputs": [],
   "source": [
    "def plot_data(g_buffer):\n",
    "    rainbow = cm.rainbow(np.linspace(0, 1, len(gradient_buffer)))\n",
    "    training, texting, color = [], [], []\n",
    "    index = 5\n",
    "    sub_m = 4\n",
    "    for t in range(len(gradient_buffer)-1):\n",
    "        for i in range(max_len):\n",
    "#             print(t, i, g_buffer[t][i][sub_m][0][index])\n",
    "            training.append(g_buffer[t][i][sub_m][0][index])\n",
    "            color.append(np.array(rainbow[t]))\n",
    "    for i in range(max_len):\n",
    "#         print(g_buffer[9][i][sub_m][0][index])\n",
    "        texting.append(g_buffer[9][i][sub_m][0][index])\n",
    "\n",
    "    for i in range(len(gradient_buffer)-1):\n",
    "        start = max_len*i\n",
    "        end = start + max_len\n",
    "        print(i, np.mean(training[start:end]), np.std(training[start:end]))\n",
    "        plt.scatter(range(len(training))[start:end],training[start:end], c=rainbow[i],s=1)   \n",
    "\n",
    "    print(9, np.mean(texting), np.std(texting))\n",
    "#     print(rainbow)\n",
    "    plt.scatter(range(len(texting)),texting, c='r', s=1)            \n",
    "\n",
    "    plt.show()"
   ]
  },
  {
   "cell_type": "code",
   "execution_count": 198,
   "metadata": {},
   "outputs": [
    {
     "name": "stderr",
     "output_type": "stream",
     "text": [
      "'c' argument looks like a single numeric RGB or RGBA sequence, which should be avoided as value-mapping will have precedence in case its length matches with 'x' & 'y'.  Please use a 2-D array with a single row if you really want to specify the same RGB or RGBA value for all points.\n",
      "'c' argument looks like a single numeric RGB or RGBA sequence, which should be avoided as value-mapping will have precedence in case its length matches with 'x' & 'y'.  Please use a 2-D array with a single row if you really want to specify the same RGB or RGBA value for all points.\n",
      "'c' argument looks like a single numeric RGB or RGBA sequence, which should be avoided as value-mapping will have precedence in case its length matches with 'x' & 'y'.  Please use a 2-D array with a single row if you really want to specify the same RGB or RGBA value for all points.\n",
      "'c' argument looks like a single numeric RGB or RGBA sequence, which should be avoided as value-mapping will have precedence in case its length matches with 'x' & 'y'.  Please use a 2-D array with a single row if you really want to specify the same RGB or RGBA value for all points.\n",
      "'c' argument looks like a single numeric RGB or RGBA sequence, which should be avoided as value-mapping will have precedence in case its length matches with 'x' & 'y'.  Please use a 2-D array with a single row if you really want to specify the same RGB or RGBA value for all points.\n",
      "'c' argument looks like a single numeric RGB or RGBA sequence, which should be avoided as value-mapping will have precedence in case its length matches with 'x' & 'y'.  Please use a 2-D array with a single row if you really want to specify the same RGB or RGBA value for all points.\n",
      "'c' argument looks like a single numeric RGB or RGBA sequence, which should be avoided as value-mapping will have precedence in case its length matches with 'x' & 'y'.  Please use a 2-D array with a single row if you really want to specify the same RGB or RGBA value for all points.\n",
      "'c' argument looks like a single numeric RGB or RGBA sequence, which should be avoided as value-mapping will have precedence in case its length matches with 'x' & 'y'.  Please use a 2-D array with a single row if you really want to specify the same RGB or RGBA value for all points.\n",
      "'c' argument looks like a single numeric RGB or RGBA sequence, which should be avoided as value-mapping will have precedence in case its length matches with 'x' & 'y'.  Please use a 2-D array with a single row if you really want to specify the same RGB or RGBA value for all points.\n"
     ]
    },
    {
     "name": "stdout",
     "output_type": "stream",
     "text": [
      "['module.encoder.0.weight', 'module.encoder.0.bias', 'module.encoder.1.weight', 'module.encoder.1.bias', 'module.mu.weight', 'module.mu.bias', 'module.logvar.weight', 'module.logvar.bias', 'module.decoder.0.weight', 'module.decoder.0.bias', 'module.decoder.1.weight', 'module.decoder.1.bias', 'module.decoder.3.weight', 'module.decoder.3.bias', 'lrs.0', 'lrs.1', 'lrs.2', 'lrs.3', 'lrs.4', 'lrs.5', 'lrs.6', 'lrs.7', 'lrs.8', 'lrs.9', 'lrs.10', 'lrs.11', 'lrs.12', 'lrs.13']\n",
      "0 -0.0040152934 0.003242813\n",
      "1 -0.0002355501 0.0017060293\n",
      "2 -0.004010478 0.0038189886\n",
      "3 -0.0003119293 0.0033703109\n",
      "4 -0.0011138202 0.0038484293\n",
      "5 0.0028428065 0.0029814013\n",
      "6 -0.0026260493 0.0031869335\n",
      "7 0.0017376484 0.0035536159\n",
      "8 0.0010191039 0.0038037982\n",
      "9 0.0022082257 0.0044163843\n"
     ]
    },
    {
     "data": {
      "image/png": "[encoded data removed]",
      "text/plain": [
       "<Figure size 432x288 with 1 Axes>"
      ]
     },
     "metadata": {
      "needs_background": "light"
     },
     "output_type": "display_data"
    }
   ],
   "source": [
    "names = pickle.load( open( './result/param_name.p', \"rb\" ) )\n",
    "print(names)\n",
    "\n",
    "gradient_buffer = load_data('/home/xi/ml_space/meta_vae/result/')\n",
    "plot_data(gradient_buffer)"
   ]
  },
  {
   "cell_type": "code",
   "execution_count": null,
   "metadata": {},
   "outputs": [],
   "source": []
  }
 ],
 "metadata": {
  "kernelspec": {
   "display_name": "Python 3",
   "language": "python",
   "name": "python3"
  },
  "language_info": {
   "codemirror_mode": {
    "name": "ipython",
    "version": 3
   },
   "file_extension": ".py",
   "mimetype": "text/x-python",
   "name": "python",
   "nbconvert_exporter": "python",
   "pygments_lexer": "ipython3",
   "version": "3.6.8"
  }
 },
 "nbformat": 4,
 "nbformat_minor": 4
}
